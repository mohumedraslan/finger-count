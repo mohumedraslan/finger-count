{
 "cells": [
  {
   "cell_type": "code",
   "execution_count": 26,
   "metadata": {},
   "outputs": [],
   "source": [
    "import cv2 as cv\n",
    "import numpy as np"
   ]
  },
  {
   "cell_type": "code",
   "execution_count": 27,
   "metadata": {},
   "outputs": [],
   "source": [
    "\n",
    "cap = cv.VideoCapture(0)\n",
    "if not cap.isOpened():\n",
    "    print(\"Error: Could not open webcam.\")\n",
    "    exit()"
   ]
  },
  {
   "cell_type": "code",
   "execution_count": 28,
   "metadata": {},
   "outputs": [],
   "source": [
    "\n",
    "\n",
    "calibrated = False\n",
    "lower_skin = np.array([0, 20, 70], dtype=np.uint8)\n",
    "upper_skin = np.array([20, 255, 255], dtype=np.uint8)\n"
   ]
  },
  {
   "cell_type": "code",
   "execution_count": 29,
   "metadata": {},
   "outputs": [],
   "source": [
    "\n",
    "\n",
    "def calibrate_skin_tone(frame, roi):\n",
    "    hsv_roi = cv.cvtColor(roi, cv.COLOR_BGR2HSV)\n",
    "    center_y, center_x = roi.shape[0] // 2, roi.shape[1] // 2\n",
    "    sample = hsv_roi[center_y-10:center_y+10, center_x-10:center_x+10]\n",
    "    h, s, v = np.median(sample, axis=(0, 1)).astype(np.uint8)\n",
    "    global lower_skin, upper_skin\n",
    "    lower_skin = np.array([max(0, h-10), max(20, s-40), max(70, v-40)], dtype=np.uint8)\n",
    "    upper_skin = np.array([min(179, h+10), 255, 255], dtype=np.uint8)\n",
    "    return True"
   ]
  },
  {
   "cell_type": "code",
   "execution_count": 30,
   "metadata": {},
   "outputs": [
    {
     "ename": "KeyboardInterrupt",
     "evalue": "",
     "output_type": "error",
     "traceback": [
      "\u001b[1;31m---------------------------------------------------------------------------\u001b[0m",
      "\u001b[1;31mKeyboardInterrupt\u001b[0m                         Traceback (most recent call last)",
      "Cell \u001b[1;32mIn[30], line 2\u001b[0m\n\u001b[0;32m      1\u001b[0m \u001b[38;5;28;01mwhile\u001b[39;00m \u001b[38;5;28;01mTrue\u001b[39;00m:\n\u001b[1;32m----> 2\u001b[0m     ret, frame \u001b[38;5;241m=\u001b[39m \u001b[43mcap\u001b[49m\u001b[38;5;241;43m.\u001b[39;49m\u001b[43mread\u001b[49m\u001b[43m(\u001b[49m\u001b[43m)\u001b[49m\n\u001b[0;32m      3\u001b[0m     \u001b[38;5;28;01mif\u001b[39;00m \u001b[38;5;129;01mnot\u001b[39;00m ret:\n\u001b[0;32m      4\u001b[0m         \u001b[38;5;28mprint\u001b[39m(\u001b[38;5;124m\"\u001b[39m\u001b[38;5;124mError: Could not read frame.\u001b[39m\u001b[38;5;124m\"\u001b[39m)\n",
      "\u001b[1;31mKeyboardInterrupt\u001b[0m: "
     ]
    }
   ],
   "source": [
    "while True:\n",
    "    ret, frame = cap.read()\n",
    "    if not ret:\n",
    "        print(\"Error: Could not read frame.\")\n",
    "        break\n",
    "\n",
    "    frame = cv.flip(frame, 1)\n",
    "    height, width = frame.shape[:2]\n",
    "\n",
    "    roi_top, roi_bottom = int(height * 0.1), int(height * 0.6)\n",
    "    roi_left, roi_right = int(width * 0.3), int(width * 0.7)\n",
    "    roi = frame[roi_top:roi_bottom, roi_left:roi_right]\n",
    "    cv.rectangle(frame, (roi_left, roi_top), (roi_right, roi_bottom), (0, 255, 0), 2)\n",
    "\n",
    "    # Calibration step: Press 'c' to calibrate skin tone\n",
    "    if not calibrated:\n",
    "        cv.putText(frame, \"Press 'c' to calibrate skin tone\", (10, 30), \n",
    "                   cv.FONT_HERSHEY_SIMPLEX, 0.7, (0, 0, 255), 2)\n",
    "\n",
    "    hsv_roi = cv.cvtColor(roi, cv.COLOR_BGR2HSV)\n",
    "    mask = cv.inRange(hsv_roi, lower_skin, upper_skin)\n",
    "\n",
    "    kernel = np.ones((5, 5), np.uint8)\n",
    "    mask = cv.erode(mask, kernel, iterations=1)  \n",
    "    mask = cv.dilate(mask, kernel, iterations=2)  \n",
    "    mask = cv.GaussianBlur(mask, (5, 5), 0)\n",
    "\n",
    "    contours, _ = cv.findContours(mask, cv.RETR_EXTERNAL, cv.CHAIN_APPROX_SIMPLE)\n",
    "\n",
    "    finger_count = 0\n",
    "    if contours:\n",
    "        max_contour = max(contours, key=cv.contourArea)\n",
    "        if cv.contourArea(max_contour) > 2000: \n",
    "            cv.drawContours(roi, [max_contour], -1, (0, 255, 0), 2)\n",
    "\n",
    "            hull = cv.convexHull(max_contour, returnPoints=False)\n",
    "            defects = cv.convexityDefects(max_contour, hull)\n",
    "\n",
    "            if defects is not None:\n",
    "                for i in range(defects.shape[0]):\n",
    "                    s, e, f, d = defects[i, 0]\n",
    "                    start = tuple(max_contour[s][0])\n",
    "                    end = tuple(max_contour[e][0])\n",
    "                    far = tuple(max_contour[f][0])\n",
    "\n",
    "                    a = np.sqrt((end[0] - start[0])**2 + (end[1] - start[1])**2)\n",
    "                    b = np.sqrt((far[0] - start[0])**2 + (far[1] - start[1])**2)\n",
    "                    c = np.sqrt((end[0] - far[0])**2 + (end[1] - far[1])**2)\n",
    "                    angle = np.arccos((b**2 + c**2 - a**2) / (2 * b * c)) * 57.2958\n",
    "\n",
    "                    if angle < 100 and d > 1000:  \n",
    "                        finger_count += 1\n",
    "                        cv.circle(roi, far, 5, (0, 0, 255), -1)\n",
    "\n",
    "            finger_count = min(finger_count + 1, 5)\n",
    "\n",
    "    cv.putText(frame, f\"Fingers: {finger_count}\", (10, 50), \n",
    "               cv.FONT_HERSHEY_SIMPLEX, 1, (255, 0, 0), 2)\n",
    "\n",
    "    cv.imshow(\"Frame\", frame)\n",
    "    cv.imshow(\"Mask\", mask)\n",
    "\n",
    "    key = cv.waitKey(1) & 0xFF\n",
    "    if key == ord('q'):\n",
    "        break\n",
    "    elif key == ord('c') and not calibrated:\n",
    "        calibrated = calibrate_skin_tone(frame, roi)\n",
    "        print(f\"Calibrated HSV range: {lower_skin} to {upper_skin}\")\n"
   ]
  },
  {
   "cell_type": "code",
   "execution_count": null,
   "metadata": {},
   "outputs": [],
   "source": [
    "\n",
    "\n",
    "cap.release()\n",
    "cv.destroyAllWindows()"
   ]
  }
 ],
 "metadata": {
  "kernelspec": {
   "display_name": "Python 3",
   "language": "python",
   "name": "python3"
  },
  "language_info": {
   "codemirror_mode": {
    "name": "ipython",
    "version": 3
   },
   "file_extension": ".py",
   "mimetype": "text/x-python",
   "name": "python",
   "nbconvert_exporter": "python",
   "pygments_lexer": "ipython3",
   "version": "3.12.0"
  }
 },
 "nbformat": 4,
 "nbformat_minor": 2
}
